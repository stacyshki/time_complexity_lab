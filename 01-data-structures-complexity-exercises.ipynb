{
 "cells": [
  {
   "cell_type": "markdown",
   "id": "a263557d",
   "metadata": {},
   "source": [
    "NAME:"
   ]
  },
  {
   "cell_type": "markdown",
   "id": "a4e4fad3",
   "metadata": {
    "slideshow": {
     "slide_type": "slide"
    }
   },
   "source": [
    "# UE5 Fundamentals of Algorithms\n",
    "# Lab 1: Data structures and complexity"
   ]
  },
  {
   "cell_type": "markdown",
   "id": "a8adef9b",
   "metadata": {
    "slideshow": {
     "slide_type": "skip"
    }
   },
   "source": [
    "---"
   ]
  },
  {
   "cell_type": "markdown",
   "id": "4ed79767-c9a1-44ca-ae78-c75ec0719e11",
   "metadata": {},
   "source": [
    "# Complexity calculation"
   ]
  },
  {
   "cell_type": "markdown",
   "id": "9fae6717-3117-4c16-853e-595b8b27d23d",
   "metadata": {},
   "source": [
    "For each of the following questions:\n",
    "- Understand the code and what it aims at achieving\n",
    "- Fill the cell `# Write an example of use` with an example of use\n",
    "- In the `# YOUR CODE HERE` cell, remove `raise NotImplementedError()` and include tests using `assert` and eventually compare to a another implementation (e.g., built-in Python functions)\n",
    "- Give the time complexity (from the list `list_complexities` below) as a comment using `#`"
   ]
  },
  {
   "cell_type": "code",
   "execution_count": null,
   "id": "2e98d4f6-b8eb-42be-9fc4-b0d1878812d3",
   "metadata": {
    "tags": []
   },
   "outputs": [],
   "source": [
    "list_complexities = [\"O(1)\", \"O(log(n))\", \"O(n)\", \"O(n^2)\", \"O(nlog(n))\", \"O(n^3)\", \"O(2^n)\", \"O(n!)\", \"O(n^n)\", \"Other\"]"
   ]
  },
  {
   "cell_type": "markdown",
   "id": "90a43e0d-71a7-4f78-9fa6-2adcda12c20c",
   "metadata": {},
   "source": [
    "### Example (with solution)\n",
    "\n",
    "_What does the code below do and what is its complexity?_"
   ]
  },
  {
   "cell_type": "code",
   "execution_count": null,
   "id": "cd645d2c-3a7e-43b6-9ce1-93f5d16c1a99",
   "metadata": {
    "tags": []
   },
   "outputs": [],
   "source": [
    "def nested_loop_example(L):\n",
    "    n = len(L)\n",
    "    r = []\n",
    "    for i in range(n):\n",
    "        for j in range(n):\n",
    "            r.append(L[i] + L[j])\n",
    "    return r"
   ]
  },
  {
   "cell_type": "markdown",
   "id": "41fa621f-bb89-4081-9f51-998d1b747a7a",
   "metadata": {},
   "source": [
    "_Above is a code that creates an array with the sum of all possible pairs from the array, returned as a new array._"
   ]
  },
  {
   "cell_type": "code",
   "execution_count": null,
   "id": "fc7214b7-f97d-4902-aee9-c19dbb620d71",
   "metadata": {
    "tags": []
   },
   "outputs": [],
   "source": [
    "# Write an example of use\n",
    "L = [1, 2]\n",
    "nested_loop_example(L) # [2, 3, 3, 4]"
   ]
  },
  {
   "cell_type": "code",
   "execution_count": null,
   "id": "9fd9ed1d-7c2d-4470-842a-08f166a5758c",
   "metadata": {
    "tags": []
   },
   "outputs": [],
   "source": [
    "# Write tests and complexity\n",
    "# YOUR CODE HERE\n",
    "assert nested_loop_example([1, 2, 3]) == [2, 3, 4, 3, 4, 5, 4, 5, 6], \"failed to sum positive values\"\n",
    "assert nested_loop_example([-1, 0, 1]) == [-2, -1, 0, -1, 0, 1, 0, 1, 2], \"failed to sum positive and negative values\"\n",
    "assert nested_loop_example([\"a\", \"b\", \"c\"]) == [\"aa\", \"ab\", \"ac\", \"ba\", \"bb\", \"bc\", \"ca\", \"cb\", \"cc\"], \"failed to concatenate strings\"\n",
    "assert nested_loop_example([]) == [], \"failed to handle empty arrays\"\n",
    "# Complexity\n",
    "# O(n^2)"
   ]
  },
  {
   "cell_type": "markdown",
   "id": "1b99cc7f-6aac-4393-b285-7aacbfe24e20",
   "metadata": {},
   "source": [
    "### Exercise 1\n",
    "_What does the code below do and what is its complexity?_"
   ]
  },
  {
   "cell_type": "code",
   "execution_count": 54,
   "id": "9efe9a77-1d0e-4fff-93f0-d6813a9a598d",
   "metadata": {
    "tags": []
   },
   "outputs": [],
   "source": [
    "def sum_of_elements(arr):\n",
    "    total = 0\n",
    "    for element in arr:\n",
    "        total += element\n",
    "    return total"
   ]
  },
  {
   "cell_type": "markdown",
   "id": "d6cea6c5",
   "metadata": {},
   "source": [
    "The code sums all elements from an array and returns this sum"
   ]
  },
  {
   "cell_type": "code",
   "execution_count": 4,
   "id": "9751d52f-6181-4f46-a956-f9d9eef4dc66",
   "metadata": {
    "tags": []
   },
   "outputs": [
    {
     "data": {
      "text/plain": [
       "6"
      ]
     },
     "execution_count": 4,
     "metadata": {},
     "output_type": "execute_result"
    }
   ],
   "source": [
    "# Write an example of use\n",
    "array = [1, 2, 3]\n",
    "sum_of_elements(array) # 6"
   ]
  },
  {
   "cell_type": "code",
   "execution_count": 55,
   "id": "94882656-f447-4c53-8b7f-330129650d60",
   "metadata": {
    "deletable": false,
    "nbgrader": {
     "cell_type": "code",
     "checksum": "6e957372065e26aa435819d70aa88af7",
     "grade": false,
     "grade_id": "cell-ba46c3faf99e81e9",
     "locked": false,
     "schema_version": 3,
     "solution": true,
     "task": false
    },
    "tags": []
   },
   "outputs": [
    {
     "name": "stdout",
     "output_type": "stream",
     "text": [
      "0.005863165948539972\n",
      "0.03128774999640882\n"
     ]
    }
   ],
   "source": [
    "# Write tests and complexity\n",
    "# Tip compare with the `sum` operator for the tests\n",
    "from time import perf_counter\n",
    "\n",
    "def compare(function : object, variable):\n",
    "  start = perf_counter()\n",
    "  function(variable)\n",
    "  end = perf_counter()\n",
    "  return end - start\n",
    "\n",
    "array = [i for i in range(1, 1000000)]\n",
    "\n",
    "print(compare(sum, array))\n",
    "print(compare(sum_of_elements, array))\n",
    "# YOUR CODE HERE\n",
    "assert sum_of_elements([1,2,3,4]) == sum([1,2,3,4]), 'failed to sum positive numbers'\n",
    "assert sum_of_elements([1,2,3,4]) == 10, 'failed to sum positive numbers'\n",
    "assert sum_of_elements([-1,-2,3,4]) == sum([-1,-2,3,4]), 'failed to sum positive and negative numbers'\n",
    "assert sum_of_elements([-1,-2,3,4]) == 4, 'failed to sum positive and negative numbers'\n",
    "assert sum_of_elements([-1,-2,-3,-4]) == sum([-1,-2,-3,-4]), 'failed to sum negative numbers'\n",
    "assert sum_of_elements([-1,-2,-3,-4]) == -10, 'failed to sum negative numbers'\n",
    "assert sum_of_elements([]) == sum([]), 'failed to sum empty array'\n",
    "assert sum_of_elements([]) == 0, 'failed to sum empty array'\n",
    "# Complexity\n",
    "#O(n)"
   ]
  },
  {
   "cell_type": "markdown",
   "id": "a3b9f21c-b48f-4984-a9a8-25a9d7a95300",
   "metadata": {},
   "source": [
    "### Exercise 2\n",
    "_What does the code below do and what is its complexity?_"
   ]
  },
  {
   "cell_type": "code",
   "execution_count": 56,
   "id": "cb4ae01b-753c-4860-9332-65566cfad26f",
   "metadata": {},
   "outputs": [],
   "source": [
    "def find_max(arr):\n",
    "    max_element = arr[0]\n",
    "    for element in arr[1:]:\n",
    "        if element > max_element:\n",
    "            max_element = element\n",
    "    return max_element"
   ]
  },
  {
   "cell_type": "markdown",
   "id": "177c4481",
   "metadata": {},
   "source": [
    "This code finds the biggest value from an array and returns it"
   ]
  },
  {
   "cell_type": "code",
   "execution_count": 57,
   "id": "95d7bb1e-1cc4-472f-a36e-db36d8792abe",
   "metadata": {
    "tags": []
   },
   "outputs": [
    {
     "data": {
      "text/plain": [
       "9"
      ]
     },
     "execution_count": 57,
     "metadata": {},
     "output_type": "execute_result"
    }
   ],
   "source": [
    "# Write an example of use\n",
    "array = [1, 8, 5, 9, 0, 3, 6, 5, 5]\n",
    "find_max(array) # 9"
   ]
  },
  {
   "cell_type": "code",
   "execution_count": 58,
   "id": "cf5d179f-8951-429c-aa39-9b55c130f53b",
   "metadata": {
    "deletable": false,
    "nbgrader": {
     "cell_type": "code",
     "checksum": "0cba9241800ca20d47c46cdea0bd7b20",
     "grade": false,
     "grade_id": "cell-2aee523bca931ea5",
     "locked": false,
     "schema_version": 3,
     "solution": true,
     "task": false
    },
    "tags": []
   },
   "outputs": [
    {
     "name": "stdout",
     "output_type": "stream",
     "text": [
      "0.020088042016141117\n",
      "0.010839583002962172\n"
     ]
    }
   ],
   "source": [
    "# Write tests and complexity\n",
    "# Tip compare with the `max` operator for the tests\n",
    "from time import perf_counter\n",
    "\n",
    "def compare(function : object, variable):\n",
    "  start = perf_counter()\n",
    "  function(variable)\n",
    "  end = perf_counter()\n",
    "  return end - start\n",
    "\n",
    "array = [i for i in range(1000000, 1, -1)]\n",
    "print(compare(find_max, array))\n",
    "print(compare(max, array))\n",
    "\n",
    "# YOUR CODE HERE\n",
    "assert find_max([1,2,4,9,6,4,3]) == max([1,2,4,9,6,4,3]), 'failed to find the max val among positive numbers'\n",
    "assert find_max([1,2,4,9,6,4,3]) == 9, 'failed to find the max val among positive numbers'\n",
    "assert find_max([1,2,-4,-9,-6,4,3]) == max([1,2,-4,-9,-6,4,3]), 'failed to find the max val among positive and negative numbers'\n",
    "assert find_max([1,2,-4,-9,-6,4,3]) == 4, 'failed to find the max val among positive and negative numbers'\n",
    "assert find_max([-1,-2,-4,-9,-6,-4,-3]) == max([-1,-2,-4,-9,-6,-4,-3]), 'failed to find the max val among negative numbers'\n",
    "assert find_max([-1,-2,-4,-9,-6,-4,-3]) == -1, 'failed to find the max val among negative numbers'\n",
    "\n",
    "try:\n",
    "  assert find_max([]) == max([]), 'failed to find the max val among empty array'\n",
    "except IndexError or ValueError:\n",
    "  assert True\n",
    "\n",
    "try:\n",
    "  assert find_max([]) == [], 'failed to find the max val among empty array'\n",
    "except IndexError or ValueError:\n",
    "  assert True\n",
    "# Complexity: O(n)"
   ]
  },
  {
   "cell_type": "markdown",
   "id": "b241c794-4ff6-4661-9c36-c3d52aabf443",
   "metadata": {},
   "source": [
    "### Exercise 3\n",
    "_What does the code below do and what is its complexity?_"
   ]
  },
  {
   "cell_type": "code",
   "execution_count": 59,
   "id": "163e6954-f4b1-44cd-bd9e-fd740c54f68f",
   "metadata": {
    "tags": []
   },
   "outputs": [],
   "source": [
    "def nested_multiplication(L):\n",
    "    n = len(L)\n",
    "    r = []\n",
    "    for i in range(n):\n",
    "        r.append(L[i] * L[i])\n",
    "    return r"
   ]
  },
  {
   "cell_type": "markdown",
   "id": "7668f653",
   "metadata": {},
   "source": [
    "Returns an array of squared elements"
   ]
  },
  {
   "cell_type": "code",
   "execution_count": 15,
   "id": "e794cbd9-7669-4f32-835e-a25c930fe880",
   "metadata": {
    "tags": []
   },
   "outputs": [
    {
     "data": {
      "text/plain": [
       "[1, 4, 9]"
      ]
     },
     "execution_count": 15,
     "metadata": {},
     "output_type": "execute_result"
    }
   ],
   "source": [
    "# Write an example of use\n",
    "array = [1,2,3]\n",
    "nested_multiplication(array) # [1,4,9]"
   ]
  },
  {
   "cell_type": "code",
   "execution_count": 61,
   "id": "629a734a-a7e7-4684-b10b-c805ae241007",
   "metadata": {
    "deletable": false,
    "nbgrader": {
     "cell_type": "code",
     "checksum": "40f8815319ad59060b0f8e49463f8ea6",
     "grade": false,
     "grade_id": "cell-14e2e37a3284fa13",
     "locked": false,
     "schema_version": 3,
     "solution": true,
     "task": false
    },
    "tags": []
   },
   "outputs": [
    {
     "name": "stdout",
     "output_type": "stream",
     "text": [
      "0.06402708298992366\n",
      "0.006839375011622906\n"
     ]
    }
   ],
   "source": [
    "# Write tests and complexity\n",
    "# Tip compare with the `map` operator for the tests\n",
    "from time import perf_counter\n",
    "\n",
    "def compare(function : object, variable):\n",
    "  start = perf_counter()\n",
    "  function(variable)\n",
    "  end = perf_counter()\n",
    "  return end - start\n",
    "\n",
    "array = [i for i in range(1000000, 1, -1)]\n",
    "print(compare(nested_multiplication, array))\n",
    "start = perf_counter()\n",
    "multiplied_arr = map(lambda x: x**2, array)\n",
    "end = perf_counter()\n",
    "print(end - start)\n",
    "\n",
    "# YOUR CODE HERE\n",
    "assert nested_multiplication([1,2,3,4,5]) == list(\n",
    "  map(lambda x: x**2, [1,2,3,4,5])), 'failed to multiply positive numbers'\n",
    "assert nested_multiplication([1,2,3,4,5]) == [1,4,9,16,25], 'failed to multiply positive numbers'\n",
    "\n",
    "assert nested_multiplication([-1,-2,-3,-4,-5]) == list(\n",
    "  map(lambda x: x**2, [-1,-2,-3,-4,-5])), 'failed to multiply negative numbers'\n",
    "assert nested_multiplication([-1,-2,-3,-4,-5]) == [1,4,9,16,25], 'failed to multiply negative numbers'\n",
    "\n",
    "assert nested_multiplication([-1,2,-3,-4,5]) == list(\n",
    "  map(lambda x: x**2, [-1,2,-3,-4,5])), 'failed to multiply mixed numbers'\n",
    "assert nested_multiplication([-1,2,-3,-4,5]) == [1,4,9,16,25], 'failed to multiply mixed numbers'\n",
    "# Complexity: O(n)"
   ]
  },
  {
   "cell_type": "markdown",
   "id": "612dc873-419b-42c5-be36-0accd03ffa79",
   "metadata": {},
   "source": [
    "### Exercise 4\n",
    "_What does the code below do and what is its complexity?_"
   ]
  },
  {
   "cell_type": "code",
   "execution_count": 24,
   "id": "76102853-e1f3-4717-8a59-1091195a19eb",
   "metadata": {},
   "outputs": [],
   "source": [
    "def fibonacci_recursive(n):\n",
    "    if n <= 1:\n",
    "        return n\n",
    "    return fibonacci_recursive(n - 1) + fibonacci_recursive(n - 2)"
   ]
  },
  {
   "cell_type": "markdown",
   "id": "a95b7847",
   "metadata": {},
   "source": [
    "Returns the n element of a fibonacci seq "
   ]
  },
  {
   "cell_type": "code",
   "execution_count": 25,
   "id": "e9e39b09-e99f-4e7c-a8b0-1e51cc84e0cf",
   "metadata": {
    "tags": []
   },
   "outputs": [
    {
     "data": {
      "text/plain": [
       "2"
      ]
     },
     "execution_count": 25,
     "metadata": {},
     "output_type": "execute_result"
    }
   ],
   "source": [
    "# Write an example of use\n",
    "fibonacci_recursive(3) # 2"
   ]
  },
  {
   "cell_type": "code",
   "execution_count": 31,
   "id": "dead6a52-7996-4eae-9d2a-f75d5d26bbb7",
   "metadata": {
    "deletable": false,
    "nbgrader": {
     "cell_type": "code",
     "checksum": "f19ccbc05e298f92c29eb26faf02cebe",
     "grade": false,
     "grade_id": "cell-34e130eb0c6b7e82",
     "locked": false,
     "schema_version": 3,
     "solution": true,
     "task": false
    },
    "tags": []
   },
   "outputs": [],
   "source": [
    "# Write tests and complexity\n",
    "# YOUR CODE HERE\n",
    "assert fibonacci_recursive(3) == 2, 'failed to count an N element of the fibo seq'\n",
    "assert fibonacci_recursive(1) == 1, 'failed to count the first element of the fibo seq'\n",
    "assert fibonacci_recursive(-1) == -1, 'failed to count a negative element of the fibo seq'\n",
    "assert fibonacci_recursive(0) == 0, 'failed to count a zero element of the fibo seq'\n",
    "\n",
    "# Complexity: O(2^n)"
   ]
  },
  {
   "cell_type": "markdown",
   "id": "aa4a6ce7-e542-4b23-8a10-ca0bf93de041",
   "metadata": {},
   "source": [
    "### Exercise 5\n",
    "_What does the code below do and what is its complexity?_"
   ]
  },
  {
   "cell_type": "code",
   "execution_count": 33,
   "id": "70af3e43-8053-49c9-ba58-346a3e915bdb",
   "metadata": {
    "tags": []
   },
   "outputs": [],
   "source": [
    "def binary_search(L, target):\n",
    "    low, high = 0, len(L) - 1\n",
    "    while low <= high:\n",
    "        mid = (low + high) // 2\n",
    "        if L[mid] == target:\n",
    "            return mid\n",
    "        elif L[mid] < target:\n",
    "            low = mid + 1\n",
    "        else:\n",
    "            high = mid - 1\n",
    "    return -1"
   ]
  },
  {
   "cell_type": "markdown",
   "id": "d5f09291",
   "metadata": {},
   "source": [
    "Finds an element in a sorted array"
   ]
  },
  {
   "cell_type": "code",
   "execution_count": 34,
   "id": "0350c626-b00f-43c7-942b-4ac1c902addf",
   "metadata": {
    "tags": []
   },
   "outputs": [
    {
     "data": {
      "text/plain": [
       "-1"
      ]
     },
     "execution_count": 34,
     "metadata": {},
     "output_type": "execute_result"
    }
   ],
   "source": [
    "# Write an example of use\n",
    "array = [1, 2, 4, 5, 6, 7, 8]\n",
    "binary_search(array, 9) # -1"
   ]
  },
  {
   "cell_type": "code",
   "execution_count": 42,
   "id": "9c22866c-b4fc-4228-b0ab-5882d964f5f6",
   "metadata": {
    "deletable": false,
    "nbgrader": {
     "cell_type": "code",
     "checksum": "a71d2ad214282312372603d118c200ae",
     "grade": false,
     "grade_id": "cell-ea8595a5923fbb0e",
     "locked": false,
     "schema_version": 3,
     "solution": true,
     "task": false
    },
    "tags": []
   },
   "outputs": [],
   "source": [
    "# Write tests and complexity\n",
    "# YOUR CODE HERE\n",
    "assert binary_search([1,3,7,8,10,15], 10) == 4, 'failed to find an existing number in a sequence'\n",
    "assert binary_search([1,3,7,8,10,15], 10) == [1,3,7,8,10,15].index(10), 'failed to find an existing number in a sequence'\n",
    "assert binary_search([1,3,7,8,10,15], 6) == -1, 'failed to find an existing number in a sequence'\n",
    "try:\n",
    "  assert binary_search([1,3,7,8,10,15], 6) == [1,3,7,8,10,15].index(6), 'failed to find a non-existing number in a sequence'\n",
    "except ValueError:\n",
    "  assert True\n",
    "\n",
    "# Complexity: O(log(n))"
   ]
  },
  {
   "cell_type": "markdown",
   "id": "44efe8b6-df4b-4a17-a9be-700b445f84d7",
   "metadata": {
    "tags": []
   },
   "source": [
    "# Write code with a specific complexity"
   ]
  },
  {
   "cell_type": "markdown",
   "id": "7d7ea77e-7854-41df-aa0f-af5d6830156a",
   "metadata": {
    "tags": []
   },
   "source": [
    "For each of the following questions:\n",
    "- Carefully read and understand the question (tip: break it down to determine what is being asked).\n",
    "- Implement a solution that addresses the question efficiently and correctly\n",
    "- Include tests"
   ]
  },
  {
   "cell_type": "markdown",
   "id": "a880f0f6-a26e-4c8d-97b0-1e9c2416d706",
   "metadata": {
    "tags": []
   },
   "source": [
    "### Example (with solution)\n",
    "_Write a function `return_value_from_sorted_list` with constant time to return the largest value value from a sorted list (in descending order)_"
   ]
  },
  {
   "cell_type": "code",
   "execution_count": 51,
   "id": "02e79458-77ce-43d9-a9e2-679bae83c8a0",
   "metadata": {
    "deletable": false,
    "nbgrader": {
     "cell_type": "code",
     "checksum": "99f8afe45256b9c10282055cc7f17ff4",
     "grade": false,
     "grade_id": "cell-a1c0c8e6e4bcd955",
     "locked": false,
     "schema_version": 3,
     "solution": true,
     "task": false
    },
    "tags": []
   },
   "outputs": [],
   "source": [
    "# YOUR CODE HERE\n",
    "def return_value_from_sorted_list(arr : list):\n",
    "  if len(arr):\n",
    "    return arr[0]\n",
    "  return None"
   ]
  },
  {
   "cell_type": "code",
   "execution_count": 52,
   "id": "0f3802e7-d484-41f3-b4cb-133c34e58ad3",
   "metadata": {
    "tags": []
   },
   "outputs": [
    {
     "data": {
      "text/plain": [
       "4"
      ]
     },
     "execution_count": 52,
     "metadata": {},
     "output_type": "execute_result"
    }
   ],
   "source": [
    "# Example of use\n",
    "return_value_from_sorted_list([4, 5, 6]) # 4"
   ]
  },
  {
   "cell_type": "code",
   "execution_count": 53,
   "id": "a0cd9fb5-b594-4430-90a7-7264c09d0023",
   "metadata": {
    "tags": []
   },
   "outputs": [],
   "source": [
    "# Write tests and complexity\n",
    "\n",
    "# Tests\n",
    "assert return_value_from_sorted_list([3, 2, 1]) == 3\n",
    "assert return_value_from_sorted_list([]) == None\n",
    "\n",
    "# Complexity\n",
    "# O(log(1))\""
   ]
  },
  {
   "cell_type": "markdown",
   "id": "5769697b-3729-4c61-adc7-0c91d0a46f2a",
   "metadata": {
    "tags": []
   },
   "source": [
    "## Exercise 6"
   ]
  },
  {
   "cell_type": "markdown",
   "id": "e7f85448-2f87-4bf4-ac9e-c49a07dc9cbf",
   "metadata": {
    "tags": []
   },
   "source": [
    "_Write a function `return_value_from_sorted_list_asc` with constant time to return the largest value value from a sorted list (in descending order)_\n",
    "- Tip: check [array operations complexity](https://wiki.python.org/moin/TimeComplexity)"
   ]
  },
  {
   "cell_type": "code",
   "execution_count": 54,
   "id": "3b54de88-8ca2-4f69-b05d-8ef90ea6ad9f",
   "metadata": {
    "deletable": false,
    "nbgrader": {
     "cell_type": "code",
     "checksum": "4a70580d01376fc9fd294230b7a88e23",
     "grade": false,
     "grade_id": "cell-90ec8ef2b0282486",
     "locked": false,
     "schema_version": 3,
     "solution": true,
     "task": false
    },
    "tags": []
   },
   "outputs": [],
   "source": [
    "# Write your code here\n",
    "# YOUR CODE HERE\n",
    "def return_value_from_sorted_list_asc(arr : list):\n",
    "  if len(arr):\n",
    "    return arr[-1]\n",
    "  return None"
   ]
  },
  {
   "cell_type": "code",
   "execution_count": 55,
   "id": "940568f6-23ec-4188-9913-8ae0f6b10f10",
   "metadata": {
    "tags": []
   },
   "outputs": [
    {
     "data": {
      "text/plain": [
       "3"
      ]
     },
     "execution_count": 55,
     "metadata": {},
     "output_type": "execute_result"
    }
   ],
   "source": [
    "# Example of use\n",
    "return_value_from_sorted_list_asc([1, 2, 3]) # 3"
   ]
  },
  {
   "cell_type": "code",
   "execution_count": 56,
   "id": "98602012-9b92-47ee-9865-7b39741d74a4",
   "metadata": {
    "deletable": false,
    "nbgrader": {
     "cell_type": "code",
     "checksum": "d5168133a1a21dc6c237b7c945764a48",
     "grade": false,
     "grade_id": "cell-98862ca6e768fef1",
     "locked": false,
     "schema_version": 3,
     "solution": true,
     "task": false
    },
    "tags": []
   },
   "outputs": [],
   "source": [
    "# Write tests\n",
    "# YOUR CODE HERE\n",
    "assert return_value_from_sorted_list_asc([1,2,3,4,5]) == 5\n",
    "assert return_value_from_sorted_list_asc([]) == None"
   ]
  },
  {
   "cell_type": "markdown",
   "id": "a6e9d4a3-8a8e-4852-860d-ae27fc48deea",
   "metadata": {},
   "source": [
    "## Exercise 7\n",
    "\n",
    "_Write a function that calculates the average of a list in `0(1)` (you may use the `sum` function)_"
   ]
  },
  {
   "cell_type": "code",
   "execution_count": 57,
   "id": "65fa7074-a991-432b-af2f-1bd5d20844f1",
   "metadata": {
    "deletable": false,
    "nbgrader": {
     "cell_type": "code",
     "checksum": "b915352c779f4792b9fdbcf6b27b8451",
     "grade": false,
     "grade_id": "cell-57c076594c344cc5",
     "locked": false,
     "schema_version": 3,
     "solution": true,
     "task": false
    },
    "tags": []
   },
   "outputs": [],
   "source": [
    "# Write your code here\n",
    "# YOUR CODE HERE\n",
    "def calculate_average(arr : list):\n",
    "  elements_sum = sum(arr)\n",
    "  length_arr = len(arr)\n",
    "  if length_arr:\n",
    "    return elements_sum / length_arr\n",
    "  return"
   ]
  },
  {
   "cell_type": "code",
   "execution_count": 58,
   "id": "4cd6ba40-c335-4e50-a4cd-e0a37469a7b9",
   "metadata": {
    "tags": []
   },
   "outputs": [
    {
     "data": {
      "text/plain": [
       "2.0"
      ]
     },
     "execution_count": 58,
     "metadata": {},
     "output_type": "execute_result"
    }
   ],
   "source": [
    "# Example of use\n",
    "L = [1, 2, 3]\n",
    "calculate_average(L) # 2.0"
   ]
  },
  {
   "cell_type": "code",
   "execution_count": 64,
   "id": "4aa7cece-5dba-43ec-bc40-5f8a9f8371da",
   "metadata": {
    "deletable": false,
    "nbgrader": {
     "cell_type": "code",
     "checksum": "15ff92fbf5885be1d5e10b069ed755eb",
     "grade": false,
     "grade_id": "cell-0077776e15389c0c",
     "locked": false,
     "schema_version": 3,
     "solution": true,
     "task": false
    },
    "tags": []
   },
   "outputs": [],
   "source": [
    "# Write tests\n",
    "# YOUR CODE HERE\n",
    "assert calculate_average([]) == None\n",
    "assert calculate_average([1]) == 1\n",
    "assert calculate_average([-1,-2,-3]) == -2.0\n",
    "assert calculate_average([1,2,3,4,5]) == 3.0\n",
    "assert calculate_average([0,0,0,0,0,0,0,0,0,0,0,0]) == 0\n",
    "\n"
   ]
  },
  {
   "cell_type": "markdown",
   "id": "430d95a7-8690-4dc6-a518-9c92efb59dc6",
   "metadata": {
    "tags": []
   },
   "source": [
    "## Exercise 8\n",
    "\n",
    "_Write a function that does the following:_\n",
    "- It returns `True` if two integers from a list `L` have a given average `n`. Otherwise, it returns `False`. \n",
    "- E.g., for the list `[2, 1, 1, 1]` and `n=1`the function returns `True`.\n",
    "- Update this function is it also returns the corresponding values\n",
    "- Calculate the complexity"
   ]
  },
  {
   "cell_type": "code",
   "execution_count": 62,
   "id": "0cff0f05-4205-43ae-9a3d-eea4a052faee",
   "metadata": {
    "deletable": false,
    "nbgrader": {
     "cell_type": "code",
     "checksum": "d2ba5b15e29518fcadcbdc72eb76852a",
     "grade": false,
     "grade_id": "cell-ff6c39af150805f2",
     "locked": false,
     "schema_version": 3,
     "solution": true,
     "task": false
    },
    "tags": []
   },
   "outputs": [],
   "source": [
    "# Write your code here\n",
    "# YOUR CODE HERE\n",
    "def merge(left_side : list, right_side : list):\n",
    "    left_index, right_index = 0, 0\n",
    "    result = []\n",
    "    while left_index < len(left_side) and right_index < len(right_side):\n",
    "        if left_side[left_index] < right_side[right_index]:\n",
    "            result.append(left_side[left_index])\n",
    "            left_index += 1\n",
    "        else:\n",
    "            result.append(right_side[right_index])\n",
    "            right_index += 1\n",
    "    \n",
    "    result += left_side[left_index:]\n",
    "    result += right_side[right_index:]\n",
    "    return result\n",
    "\n",
    "\n",
    "def merge_sort(array : list):\n",
    "    if len(array) <= 1:\n",
    "        return array\n",
    "    \n",
    "    mid_index = len(array) // 2\n",
    "    left_side = merge_sort(array[:mid_index])\n",
    "    right_side = merge_sort(array[mid_index:])\n",
    "    return merge(left_side, right_side)\n",
    "\n",
    "def two_average(arr: list, given_average):\n",
    "  new_arr = merge_sort(arr)\n",
    "  pointer_j = 0\n",
    "  pointer_k = len(new_arr) - 1\n",
    "  \n",
    "  while pointer_j != pointer_k and pointer_k > pointer_j:\n",
    "    if (new_arr[pointer_k] + new_arr[pointer_j]) / 2 < given_average:\n",
    "      pointer_j += 1\n",
    "    elif (new_arr[pointer_k] + new_arr[pointer_j]) / 2 == given_average:\n",
    "      return (True, (new_arr[pointer_j], new_arr[pointer_k]))\n",
    "    else:\n",
    "      pointer_k -= 1\n",
    "  \n",
    "  return False"
   ]
  },
  {
   "cell_type": "code",
   "execution_count": 63,
   "id": "a767d813-b0d8-4181-83a8-69ac322812a3",
   "metadata": {
    "tags": []
   },
   "outputs": [
    {
     "data": {
      "text/plain": [
       "(True, (1, 1))"
      ]
     },
     "execution_count": 63,
     "metadata": {},
     "output_type": "execute_result"
    }
   ],
   "source": [
    "# Example of use\n",
    "two_average([1, 1, 1], 1) # (True, (1, 1))"
   ]
  },
  {
   "cell_type": "code",
   "execution_count": 64,
   "id": "444a52cd-c79e-4c58-962d-e1ce715e19d0",
   "metadata": {
    "deletable": false,
    "nbgrader": {
     "cell_type": "code",
     "checksum": "58c1449f0219d6bd4b6ef7b80002f456",
     "grade": false,
     "grade_id": "cell-1f269de9c69518f9",
     "locked": false,
     "schema_version": 3,
     "solution": true,
     "task": false
    },
    "tags": []
   },
   "outputs": [],
   "source": [
    "# Write tests and complexity\n",
    "# YOUR CODE HERE\n",
    "assert two_average([], 5) == False\n",
    "assert(two_average([4,2,1,3,5], 3)) == (True, (1,5))\n",
    "assert(two_average([4,2,1,3,5], 2.5)) == (True, (1,4))\n",
    "assert(two_average([4,2,1,3,5], 2.0)) == (True, (1,3))\n",
    "assert(two_average([4,2,1,3,5], 1.5)) == (True, (1,2))\n",
    "assert(two_average([4,2,1,3,5], 4.5)) == (True, (4,5))\n",
    "assert(two_average([4,2,1,3,5], 9)) == False\n",
    "# Complexity: O(n*log(n)) because of merge_sort()"
   ]
  },
  {
   "cell_type": "markdown",
   "id": "289cea39-c225-47c9-84fc-a526ea979525",
   "metadata": {},
   "source": [
    "## Exercise 9\n",
    "\n",
    "Given a positive integer (e.g. `123` of type `int`), return the number of digits it contains (e.g. for `123` the solution is `3`, or for `56` the solution is `2`)."
   ]
  },
  {
   "cell_type": "code",
   "execution_count": 38,
   "id": "624490e3-3e5c-4b2f-899f-00808f221f21",
   "metadata": {
    "deletable": false,
    "nbgrader": {
     "cell_type": "code",
     "checksum": "55453fc83bd2c986de0dda489b3486e3",
     "grade": false,
     "grade_id": "cell-e200fed0b8ebe2b1",
     "locked": false,
     "schema_version": 3,
     "solution": true,
     "task": false
    },
    "tags": []
   },
   "outputs": [],
   "source": [
    "# Write your code here\n",
    "# YOUR CODE HERE\n",
    "def number_of_digits(number : int):\n",
    "  num = number\n",
    "  total = 0\n",
    "  \n",
    "  if num == 0:\n",
    "    return 1\n",
    "  \n",
    "  while num != 0:\n",
    "    total += 1\n",
    "    num //= 10\n",
    "  \n",
    "  return total"
   ]
  },
  {
   "cell_type": "code",
   "execution_count": 39,
   "id": "b5c751f1-7479-4dac-8991-c95e94cf873e",
   "metadata": {
    "deletable": false,
    "nbgrader": {
     "cell_type": "code",
     "checksum": "90543087d1b637ae6dd6e55e33741b52",
     "grade": false,
     "grade_id": "cell-20f4e37317993d39",
     "locked": false,
     "schema_version": 3,
     "solution": true,
     "task": false
    },
    "tags": []
   },
   "outputs": [
    {
     "data": {
      "text/plain": [
       "4"
      ]
     },
     "execution_count": 39,
     "metadata": {},
     "output_type": "execute_result"
    }
   ],
   "source": [
    "# YOUR CODE HERE\n",
    "number = 9099\n",
    "number_of_digits(number)"
   ]
  },
  {
   "cell_type": "code",
   "execution_count": 40,
   "id": "e1c89113-e8b1-4940-a46b-203cfa5e2d46",
   "metadata": {
    "deletable": false,
    "nbgrader": {
     "cell_type": "code",
     "checksum": "2bda07ac948d7cce7aa67753fc1ea514",
     "grade": false,
     "grade_id": "cell-2ace6e0c3b7b5b36",
     "locked": false,
     "schema_version": 3,
     "solution": true,
     "task": false
    },
    "tags": []
   },
   "outputs": [],
   "source": [
    "# Write tests and complexity\n",
    "# YOUR CODE HERE\n",
    "assert number_of_digits(1999385740) == 10\n",
    "assert number_of_digits(0) == 1\n",
    "# Complexity: O(n)"
   ]
  },
  {
   "cell_type": "markdown",
   "id": "4eea1a02-389b-4b81-8584-e382447e3c8b",
   "metadata": {
    "tags": []
   },
   "source": [
    "## Exercise 10\n",
    "\n",
    "_Find the duplicates in a list L._"
   ]
  },
  {
   "cell_type": "code",
   "execution_count": 46,
   "id": "e9d8e436-3d1e-4621-ac61-2bc721615e16",
   "metadata": {
    "deletable": false,
    "nbgrader": {
     "cell_type": "code",
     "checksum": "0b0c4d2d1ec36ead4801af1fee712caf",
     "grade": false,
     "grade_id": "cell-e151224f47db9c8b",
     "locked": false,
     "schema_version": 3,
     "solution": true,
     "task": false
    },
    "tags": []
   },
   "outputs": [],
   "source": [
    "# Write your code here\n",
    "# YOUR CODE HERE\n",
    "def find_duplicates(L : list):\n",
    "  d = dict()\n",
    "  result = []\n",
    "  \n",
    "  for elem in L:\n",
    "    if elem in d.keys():\n",
    "      result.append(elem)\n",
    "    else:\n",
    "      d.setdefault(elem, None)\n",
    "  \n",
    "  return result"
   ]
  },
  {
   "cell_type": "code",
   "execution_count": 47,
   "id": "1dc59ab4-648a-4c5f-ab63-f208b70e21e7",
   "metadata": {
    "tags": []
   },
   "outputs": [
    {
     "data": {
      "text/plain": [
       "[]"
      ]
     },
     "execution_count": 47,
     "metadata": {},
     "output_type": "execute_result"
    }
   ],
   "source": [
    "# Example of use\n",
    "find_duplicates([1, 2]) # []"
   ]
  },
  {
   "cell_type": "code",
   "execution_count": 51,
   "id": "394770a0-0548-450e-a0cc-db3f49d648f5",
   "metadata": {
    "deletable": false,
    "nbgrader": {
     "cell_type": "code",
     "checksum": "155c3d4e85d43c4fb11851be14064fee",
     "grade": false,
     "grade_id": "cell-0317a507de8850f1",
     "locked": false,
     "schema_version": 3,
     "solution": true,
     "task": false
    },
    "tags": []
   },
   "outputs": [],
   "source": [
    "# Write tests and complexity\n",
    "# YOUR CODE HERE\n",
    "assert find_duplicates([]) == []\n",
    "assert find_duplicates([1,2,3,2,4,2]) == [2,2]\n",
    "assert find_duplicates([1,2,3,3,3,3,3,4,7,8,9]) == [3,3,3,3]\n",
    "assert find_duplicates([-1,1]) == []\n",
    "# Complexity: O(n)"
   ]
  }
 ],
 "metadata": {
  "kernelspec": {
   "display_name": "Python 3 (ipykernel)",
   "language": "python",
   "name": "python3"
  },
  "language_info": {
   "codemirror_mode": {
    "name": "ipython",
    "version": 3
   },
   "file_extension": ".py",
   "mimetype": "text/x-python",
   "name": "python",
   "nbconvert_exporter": "python",
   "pygments_lexer": "ipython3",
   "version": "3.11.1"
  }
 },
 "nbformat": 4,
 "nbformat_minor": 5
}
